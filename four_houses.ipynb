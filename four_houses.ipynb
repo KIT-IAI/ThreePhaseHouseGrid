{
 "cells": [
  {
   "cell_type": "code",
   "execution_count": null,
   "metadata": {},
   "outputs": [],
   "source": [
    "import pandapower.toolbox as tb\n",
    "import pandapower as pp\n",
    "import matplotlib.pyplot as plt\n",
    "import pandapower.plotting as plot\n",
    "from pandapower.plotting import simple_plot\n",
    "import warnings\n",
    "warnings.simplefilter(action='ignore', category=FutureWarning)\n",
    "from src.models.hv import HV_Model\n",
    "from src.models.hv1 import HV1_Model\n",
    "from src.models.uv2 import UV2_Model\n",
    "from src.models.uv3 import UV3_Model\n",
    "from src.models.uv4 import UV4_Model\n",
    "from src.models.uv5 import UV5_Model\n",
    "from src.models.uv6 import UV6_Model\n",
    "from src.utils.modeling_methods import (\n",
    "    create_std_types,\n",
    "    create_bus,\n",
    "    create_bus_and_connect,\n",
    "    create_line\n",
    ") "
   ]
  },
  {
   "cell_type": "code",
   "execution_count": null,
   "metadata": {},
   "outputs": [],
   "source": [
    "def get_pp_network():\n",
    "    #create empty net\n",
    "    net = pp.create_empty_network() \n",
    "\n",
    "\n",
    "    \n",
    "    navy_4x150_type = pp.load_std_type(net, \"NAYY 4x150 SE\", element='line')\n",
    "    navy_4x150_type[\"r0_ohm_per_km\"] = navy_4x150_type[\"r_ohm_per_km\"]\n",
    "    navy_4x150_type[\"c0_nf_per_km\"] = navy_4x150_type[\"c_nf_per_km\"]\n",
    "    navy_4x150_type[\"x0_ohm_per_km\"] = navy_4x150_type[\"x_ohm_per_km\"]\n",
    "    pp.create_std_type(net, navy_4x150_type, \"navy_4x150_type\")\n",
    "\n",
    "    buses_lv = [[pp.create_bus(net, name=f\"0{j}\", vn_kv=0.4, type='n', geodata=(0,j)) for j in range (0, 5)]]\n",
    "                   \n",
    "    pp.create_ext_grid(net, bus=0, vm_pu = 1, name=\"Grid Connection\", s_sc_max_mva=1000, s_sc_min_mva=0, rx_max=0.1, rx_min=0.1, x0x_max=0.1, rx0x_max=0.1, r0x0_max = 0.1)\n",
    "\n",
    "    htype = \"NA2XS2Y 1x240 RM/25 12/20 kV\"\n",
    "    line_length = 0.4  #km\n",
    "\n",
    "    # line type vgl. 2018 Kochanneck p. 157\n",
    "    ltype = \"navy_4x150_type\"\n",
    "    line_length = 0.1  #km\n",
    "    lines_400v = [[pp.create_line(net, from_bus=buses_lv[0][0], to_bus=buses_lv[0][1], length_km=line_length, name=\"Line\",std_type=ltype)]]#pp.create_line(net, from_bus=buses_lv[0][0], to_bus=buses_lv[0][1], length_km=line_length, name=\"Line\",std_type=ltype)]]\n",
    "    lines_400v += [pp.create_line(net, from_bus=buses_lv[0][1], to_bus=buses_lv[0][2], length_km=line_length, name=\"Line\",std_type=ltype)]\n",
    "    lines_400v += [pp.create_line(net, from_bus=buses_lv[0][2], to_bus=buses_lv[0][3], length_km=line_length, name=\"Line\",std_type=ltype)]\n",
    "    lines_400v += [pp.create_line(net, from_bus=buses_lv[0][3], to_bus=buses_lv[0][4], length_km=line_length, name=\"Line\",std_type=ltype)]\n",
    "    \n",
    "    return net, [], buses_lv, lines_400v"
   ]
  },
  {
   "cell_type": "code",
   "execution_count": null,
   "metadata": {},
   "outputs": [],
   "source": [
    "def plot_network(net, psize = 1, household_start_idx = 0):\n",
    "    # Plot net\n",
    "    \n",
    "    lc = plot.plotly.create_line_trace(net,net.line.index, color='black',infofunc=net.line.std_type)\n",
    "    tc = plot.plotly.create_trafo_trace(net, net.trafo.index, trafotype='2W',color='blue', infofunc=net.trafo.name, trace_name='trafos', cmin=None, cmax=None, cmap_vals=None,use_line_geodata=None)\n",
    "    ext = plot.plotly.create_bus_trace(net, net.ext_grid.bus.values, patch_type=\"square\", size=psize * 20, color=\"yellow\")\n",
    "    public_idx = net.bus.index[net.bus.index < household_start_idx]\n",
    "    household_idx = net.bus.index[net.bus.index >= household_start_idx]\n",
    "    bc = plot.plotly.create_bus_trace(net, public_idx, size=psize * 10, color=\"orange\",infofunc=[','.join(x) for x in zip(map(str, public_idx), map(str, net.bus.name))])\n",
    "    bc += plot.plotly.create_bus_trace(net, household_idx, size=psize * 2, color=\"green\",infofunc=household_idx)\n",
    "    if net.load is not None and len(net.load) == len(net.bus):\n",
    "        bc = plot.plotly.create_bus_trace(net, public_idx, size=psize * 10, color=\"orange\",infofunc=[','.join(x) for x in zip(map(str, net.bus.name), map(str, net.load.p_mw), map(str, net.res_bus.vm_pu))])\n",
    "        bc += plot.plotly.create_bus_trace(net, household_idx, size=psize * 2, color=\"green\",infofunc=[','.join(x) for x in zip(map(str, net.bus.name), map(str, net.load.p_mw), map(str, net.res_bus.vm_pu))])\n",
    "        \n",
    "    _ = plot.plotly.draw_traces(tc + lc + bc + ext, figsize=psize, aspectratio=(8,6))\n"
   ]
  },
  {
   "cell_type": "code",
   "execution_count": null,
   "metadata": {},
   "outputs": [],
   "source": [
    "def init_combined_network():\n",
    "    hv = HV_Model()\n",
    "    hv1 =  HV1_Model()\n",
    "    uv2 = UV2_Model()\n",
    "    uv3 = UV3_Model()\n",
    "    uv4 = UV4_Model()\n",
    "    uv5 = UV5_Model()\n",
    "    uv6 = UV6_Model()\n",
    "\n",
    "    uvs = [hv1, uv2, uv3, uv4, uv5, uv6]\n",
    "\n",
    "    # init combined_net with main distributer\n",
    "    combined_net = hv.net\n",
    "    # merge main distributer with all sub-distributers\n",
    "    for uv in uvs:\n",
    "        combined_net = tb.merge_nets(combined_net, uv.net)\n",
    "    return combined_net"
   ]
  },
  {
   "attachments": {},
   "cell_type": "markdown",
   "metadata": {},
   "source": [
    "### Combine and Merge Main Distributer with Sub-Distributers to pandapower Net"
   ]
  },
  {
   "cell_type": "code",
   "execution_count": null,
   "metadata": {},
   "outputs": [],
   "source": [
    "def add_devices(combined_net):\n",
    "    \n",
    "\n",
    "    # the pandapower merge function requires an external grid for every net that should be merged. Delete them\n",
    "    ext_grids = list(range(1, len(combined_net.ext_grid)))\n",
    "    combined_net.ext_grid.drop(ext_grids, inplace=True)\n",
    "\n",
    "    # find all indices with connections\n",
    "    mask = [v[:12] == \"ExternalGrid\" and len(v) < 17 for v in combined_net.bus['name'].values]\n",
    "    connections = combined_net.bus.index[mask]\n",
    "    janitza1 = combined_net.bus.index[combined_net.bus['name'] == \"Janitza 1 - Red Outlets\"][0]\n",
    "    janitza2 = combined_net.bus.index[combined_net.bus['name'] == \"UV2, UV3, UV4, UV6\"][0]\n",
    "    janitza8 = combined_net.bus.index[combined_net.bus['name'] == \"Janitza 8 - Kitchen\"][0]\n",
    "\n",
    "    for i in range(0, len(connections)): \n",
    "        from_bus = janitza2 # uv2, 3, 4, 6 are connected to Janitza2\n",
    "        to_bus = connections[i]\n",
    "        if i == 0: # hv1\n",
    "            from_bus = janitza1 # red sockets are connected to Janitza 1\n",
    "        elif i == 4: # uv5\n",
    "            from_bus = janitza8 # kitchen is connected to Janitza 8\n",
    "        length = 0.001\n",
    "        uv_nr = combined_net.bus.iloc[to_bus][\"name\"][-1:]\n",
    "        if uv_nr == \"6\":\n",
    "            length = 0.02\n",
    "        elif uv_nr == \"5\":\n",
    "            length = 0.01\n",
    "        elif uv_nr == \"4\":\n",
    "            length = 0.01\n",
    "        elif uv_nr == \"3\":\n",
    "            length = 0.02\n",
    "        elif uv_nr == \"2\":\n",
    "            length = 0.005\n",
    "        create_line(combined_net, from_bus, to_bus, 0.001, \"NYM_J_5x6\", \"Coupling\")\n",
    "\n",
    "    return combined_net\n",
    "    \n",
    "combined_net = init_combined_network()\n",
    "combined_net = add_devices(combined_net)\n",
    "simple_plot(combined_net)"
   ]
  },
  {
   "attachments": {},
   "cell_type": "markdown",
   "metadata": {},
   "source": [
    "### Plot Different Sub-Distributers in Different Colors Using Collections"
   ]
  },
  {
   "cell_type": "code",
   "execution_count": null,
   "metadata": {},
   "outputs": [],
   "source": [
    "# Returns a line collection\n",
    "def add_connections(combined_net):\n",
    "\n",
    "    connections = combined_net.bus.index[[v[:12] == \"ExternalGrid\" and len(v) < 17 for v in combined_net.bus['name'].values]]\n",
    "    # different colors for different sub-distributers\n",
    "    colors= ['black', 'purple', 'yellow', 'blue', 'green', 'red', 'orange']\n",
    "    # line collection\n",
    "    lc = plot.create_line_collection(combined_net, color='slategrey', zorder=0)\n",
    "    # all collections\n",
    "    bcs = [lc]\n",
    "\n",
    "    first_idx = 0\n",
    "    for i in range(0, len(connections) + 1):\n",
    "        if (i == len(connections)):\n",
    "            last_idx = len(combined_net.bus)\n",
    "        else:\n",
    "            last_idx = connections[i]\n",
    "        # a new bus collections for every sub-distributer\n",
    "        bcs.append(plot.create_bus_collection(combined_net, buses=range(first_idx, last_idx), color=colors[i], zorder=1, size=0.2))\n",
    "        first_idx = last_idx  \n",
    "\n",
    "    return bcs\n",
    "    \n",
    "bcs = add_connections(combined_net)\n",
    "plot.draw_collections(bcs)\n",
    "plt.show()"
   ]
  },
  {
   "cell_type": "code",
   "execution_count": null,
   "metadata": {},
   "outputs": [],
   "source": [
    "geodata_template = combined_net.bus_geodata.copy()\n",
    "geodata_template *= 0.03\n",
    "geodata_template.y *= 0.9\n",
    "geodata_template.x *= 2"
   ]
  },
  {
   "cell_type": "code",
   "execution_count": null,
   "metadata": {},
   "outputs": [],
   "source": [
    "net, _, _, _ = get_pp_network()\n",
    "n_connections = [0 for _ in range(0, len(net.bus))]\n",
    "#n_connections\n",
    "for line in net.line.iloc:\n",
    "    n_connections[line.from_bus] += 1\n",
    "    n_connections[line.to_bus] += 1\n",
    "for to_bus in range(1, len(n_connections)):\n",
    "    house_net = init_combined_network()\n",
    "    house_net = add_devices(house_net)\n",
    "    net = tb.merge_nets(net, house_net)\n",
    "    pub_bus = net.bus.index[net.bus['name'] == \"ExternalGrid Public Grid\"][0]\n",
    "    # Create public connection\n",
    "    create_line(net, pub_bus, to_bus, 0.03, \"NYM_J_5x6\", \"Coupling\")\n",
    "\n",
    "    # Rename public bus\n",
    "    indx_0 = net.bus.index[net.bus['name'] == \"ExternalGrid Public Grid\"][0]\n",
    "    net.bus.at[indx_0, \"name\"] = \"Public\"\n",
    "    \n",
    "    # the pandapower merge function requires an external grid for every net that should be merged. Delete them\n",
    "    ext_grids = list(range(1, len(net.ext_grid)))\n",
    "    net.ext_grid.drop(ext_grids, inplace=True)\n",
    "    geodata_template.x *= -1\n",
    "    # Insert geodata coordinates\n",
    "    net.bus_geodata = net.bus_geodata.append(geodata_template + net.bus_geodata.iloc[to_bus])\n",
    "    # Correct indices\n",
    "    net.bus_geodata.index = range(0, len(net.bus_geodata))"
   ]
  },
  {
   "cell_type": "code",
   "execution_count": null,
   "metadata": {},
   "outputs": [],
   "source": [
    "plot_network(net, psize = 1, household_start_idx=1)"
   ]
  }
 ],
 "metadata": {
  "kernelspec": {
   "display_name": ".venv",
   "language": "python",
   "name": "python3"
  },
  "language_info": {
   "codemirror_mode": {
    "name": "ipython",
    "version": 3
   },
   "file_extension": ".py",
   "mimetype": "text/x-python",
   "name": "python",
   "nbconvert_exporter": "python",
   "pygments_lexer": "ipython3",
   "version": "3.9.6"
  },
  "orig_nbformat": 4,
  "vscode": {
   "interpreter": {
    "hash": "408012fe002406a61a55ff027d735a3ebb4c9278f6d2acf65f7a9f850c0422a4"
   }
  }
 },
 "nbformat": 4,
 "nbformat_minor": 2
}
